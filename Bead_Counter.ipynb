{
 "cells": [
  {
   "cell_type": "code",
   "execution_count": 1,
   "metadata": {},
   "outputs": [],
   "source": [
    "import cv2\n",
    "import numpy as np"
   ]
  },
  {
   "cell_type": "markdown",
   "metadata": {},
   "source": [
    "### Load images"
   ]
  },
  {
   "cell_type": "code",
   "execution_count": 17,
   "metadata": {},
   "outputs": [],
   "source": [
    "whole_pic = cv2.imread(\"bead_image1.jpg\", cv2.IMREAD_UNCHANGED)\n",
    "bead_img = cv2.imread(\"Bead.png\", cv2.IMREAD_UNCHANGED)\n",
    "whole_pic=whole_pic[:,420:930,:]"
   ]
  },
  {
   "cell_type": "code",
   "execution_count": 19,
   "metadata": {},
   "outputs": [
    {
     "data": {
      "text/plain": [
       "((202, 130, 4), (586, 510, 3), 255, 255)"
      ]
     },
     "execution_count": 19,
     "metadata": {},
     "output_type": "execute_result"
    }
   ],
   "source": [
    "bead_img.shape, whole_pic.shape, bead_img[:,:,3].min(), bead_img[:,:,3].max()\n",
    "\n",
    "# this establishes that the 4th channel (opacity?) is always 255"
   ]
  },
  {
   "cell_type": "code",
   "execution_count": 22,
   "metadata": {},
   "outputs": [],
   "source": [
    "bead_img=bead_img[:,:,:3] # removing the alpha channel "
   ]
  },
  {
   "cell_type": "markdown",
   "metadata": {},
   "source": [
    "when trying to reduce the size of the pic, I used this cell adjusting the numbers on each run\n",
    "```python\n",
    "cv2.imshow(\"Pic\", whole_pic[:,420:930,:])\n",
    "cv2.waitKey()\n",
    "cv2.destroyAllWindows()\n",
    "```"
   ]
  },
  {
   "cell_type": "code",
   "execution_count": null,
   "metadata": {},
   "outputs": [],
   "source": []
  }
 ],
 "metadata": {
  "kernelspec": {
   "display_name": "Python 3 (ipykernel)",
   "language": "python",
   "name": "python3"
  },
  "language_info": {
   "codemirror_mode": {
    "name": "ipython",
    "version": 3
   },
   "file_extension": ".py",
   "mimetype": "text/x-python",
   "name": "python",
   "nbconvert_exporter": "python",
   "pygments_lexer": "ipython3",
   "version": "3.7.11"
  }
 },
 "nbformat": 4,
 "nbformat_minor": 4
}